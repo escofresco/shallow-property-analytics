{
 "cells": [
  {
   "cell_type": "code",
   "execution_count": 1,
   "metadata": {},
   "outputs": [],
   "source": [
    "import pandas as pd\n",
    "\n",
    "%matplotlib inline"
   ]
  },
  {
   "cell_type": "code",
   "execution_count": 2,
   "metadata": {},
   "outputs": [],
   "source": [
    "df = pd.read_csv('customer_data_v0.csv')"
   ]
  },
  {
   "cell_type": "code",
   "execution_count": 5,
   "metadata": {},
   "outputs": [
    {
     "data": {
      "text/plain": [
       "0                  Dennis Abrao\n",
       "1            2723 Downer Avenue\n",
       "2          349 Clydesdale Drive\n",
       "3            2723 Downer Avenue\n",
       "4         867 McLaughlin Street\n",
       "5         853 McLaughlin Street\n",
       "6         867 McLaughlin Street\n",
       "7         853 McLaughlin Street\n",
       "8         867 McLaughlin Street\n",
       "9         853 McLaughlin Street\n",
       "10                P. O. Box 782\n",
       "11             6351 Conlon Ave.\n",
       "12            410 Keller Street\n",
       "13              4305 Wesley Way\n",
       "14                P. O. Box 176\n",
       "15              4305 Wesley Way\n",
       "16    233 Santa Margarita Drive\n",
       "17                 832 31st St.\n",
       "18                 830 31st St.\n",
       "19               1808 Key Blvd.\n",
       "Name: Bill to 1, dtype: object"
      ]
     },
     "execution_count": 5,
     "metadata": {},
     "output_type": "execute_result"
    }
   ],
   "source": [
    "df['Bill to 1'].head(n=20)"
   ]
  },
  {
   "cell_type": "code",
   "execution_count": 7,
   "metadata": {},
   "outputs": [
    {
     "name": "stdout",
     "output_type": "stream",
     "text": [
      "{\"status\":{\"version\":\"1.0.0\",\"code\":0,\"msg\":\"SuccessWithResult\",\"total\":1,\"page\":1,\"pagesize\":10},\"property\":[{\"identifier\":{\"obPropId\":18471319108031,\"fips\":\"08031\",\"apn\":\"0219204018000\",\"apnOrig\":\"219204018000\",\"attomId\":184713191},\"lot\":{\"depth\":0,\"frontage\":0,\"lotnum\":\"31\",\"lotsize1\":0.1077,\"lotsize2\":4690,\"pooltype\":\"NONE\"},\"area\":{\"blockNum\":\"36\",\"countrysecsubd\":\"Denver County\",\"countyuse1\":\"113\",\"muncode\":\"DE\",\"munname\":\"DENVER\",\"srvyRange\":\"68W\",\"srvySection\":\"19\",\"srvyTownship\":\"03S\",\"subdname\":\"BLOCKS 1 TO 40 BOTH INCLUSIVE\",\"subdtractnum\":\"0\",\"taxcodearea\":\"0\"},\"address\":{\"country\":\"US\",\"countrySubd\":\"CO\",\"line1\":\"4529 WINONA CT\",\"line2\":\"DENVER, CO 80212\",\"locality\":\"Denver\",\"matchCode\":\"ExaStr\",\"oneLine\":\"4529 WINONA CT, DENVER, CO 80212\",\"postal1\":\"80212\",\"postal2\":\"2512\",\"postal3\":\"C037\"},\"location\":{\"accuracy\":\"Street\",\"elevation\":0.0,\"latitude\":\"39.778904\",\"longitude\":\"-105.047624\",\"distance\":0.0,\"geoid\":\"CO08031, CS0891007, DB0803360, MT30001324, ND0000119198, ND0000539537, PL0820000, SB0000076114, SB0000076155, SB0000076161, SB0000135819, ZI80212\"},\"summary\":{\"absenteeInd\":\"OWNER OCCUPIED\",\"propclass\":\"Single Family Residence / Townhouse\",\"propsubtype\":\"RESIDENTIAL\",\"proptype\":\"SFR\",\"yearbuilt\":1900,\"propLandUse\":\"SFR\",\"propIndicator\":\"10\"},\"utilities\":{\"heatingtype\":\"FORCED AIR\",\"wallType\":\"BRICK\"},\"building\":{\"size\":{\"bldgsize\":1414,\"grosssize\":1414,\"grosssizeadjusted\":934,\"groundfloorsize\":934,\"livingsize\":934,\"sizeInd\":\"LIVING SQFT \",\"universalsize\":934},\"rooms\":{\"bathfixtures\":0,\"baths1qtr\":0,\"baths3qtr\":0,\"bathscalc\":1.0,\"bathsfull\":1,\"bathshalf\":0,\"bathstotal\":1.0,\"beds\":2,\"roomsTotal\":5},\"interior\":{\"bsmtsize\":480,\"bsmttype\":\"UNFINISHED\",\"fplccount\":1,\"fplcind\":\"Y\",\"fplctype\":\"YES\"},\"construction\":{\"condition\":\"AVERAGE\",\"frameType\":\"TYPE UNKNOWN\",\"wallType\":\"BRICK\"},\"parking\":{\"garagetype\":\"DETACHED GARAGE\",\"prkgSize\":240,\"prkgSpaces\":\"0\",\"prkgType\":\"GARAGE DETACHED\"},\"summary\":{\"bldgsNum\":0,\"bldgType\":\"TYPE UNKNOWN\",\"imprType\":\"RESIDENTIAL\",\"levels\":1,\"mobileHomeInd\":\" \",\"quality\":\"EXCELLENT\",\"storyDesc\":\"TYPE UNKNOWN\",\"unitsCount\":\"1\",\"yearbuilteffective\":0}},\"vintage\":{\"lastModified\":\"2018-6-11\",\"pubDate\":\"2018-6-12\"}}]}\n"
     ]
    }
   ],
   "source": [
    "import http.client \n",
    "\n",
    "conn = http.client.HTTPSConnection(\"search.onboard-apis.com\") \n",
    "\n",
    "headers = { \n",
    "    'accept': \"application/json\", \n",
    "    'apikey': \"9d078487e223b1c4d54c3f3a3f628803\", \n",
    "} \n",
    "\n",
    "conn.request(\"GET\", \"/propertyapi/v1.0.0/property/detail?address1=4529%20Winona%20Court&address2=Denver%2C%20CO\", \n",
    "             headers=headers) \n",
    "\n",
    "res = conn.getresponse() \n",
    "data = res.read() \n",
    "\n",
    "print(data.decode(\"utf-8\"))"
   ]
  },
  {
   "cell_type": "code",
   "execution_count": 22,
   "metadata": {},
   "outputs": [],
   "source": [
    "import json\n",
    "from collections import namedtuple\n",
    "#x = json.loads(data, object_hook=lambda d: namedtuple('X', d.keys())(*d.values()))\n",
    "x = json.loads(data)"
   ]
  },
  {
   "cell_type": "code",
   "execution_count": 34,
   "metadata": {},
   "outputs": [],
   "source": [
    "geoid = x['property'][0]['location']['geoid']"
   ]
  },
  {
   "cell_type": "code",
   "execution_count": 38,
   "metadata": {},
   "outputs": [
    {
     "name": "stdout",
     "output_type": "stream",
     "text": [
      "No rule matched\n"
     ]
    }
   ],
   "source": [
    "conn = http.client.HTTPSConnection(\"search.onboard-apis.com\") \n",
    "\n",
    "headers = { \n",
    "    'accept': \"application/json\", \n",
    "    'apikey': \"9d078487e223b1c4d54c3f3a3f628803\", \n",
    "} \n",
    "\n",
    "conn.request(\"GET\", \n",
    "             \"/area/full?AreaId=\" + str(geoid), \n",
    "             headers=headers) \n",
    "\n",
    "res = conn.getresponse() \n",
    "data = res.read() \n",
    "\n",
    "print(data.decode(\"utf-8\"))"
   ]
  },
  {
   "cell_type": "code",
   "execution_count": null,
   "metadata": {},
   "outputs": [],
   "source": []
  }
 ],
 "metadata": {
  "kernelspec": {
   "display_name": "Python 3",
   "language": "python",
   "name": "python3"
  },
  "language_info": {
   "codemirror_mode": {
    "name": "ipython",
    "version": 3
   },
   "file_extension": ".py",
   "mimetype": "text/x-python",
   "name": "python",
   "nbconvert_exporter": "python",
   "pygments_lexer": "ipython3",
   "version": "3.7.0"
  }
 },
 "nbformat": 4,
 "nbformat_minor": 2
}
